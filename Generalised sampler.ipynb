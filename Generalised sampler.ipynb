{
 "cells": [
  {
   "cell_type": "code",
   "execution_count": 5,
   "metadata": {
    "collapsed": true
   },
   "outputs": [],
   "source": [
    "import math\n",
    "import matplotlib.pyplot as plt\n",
    "%matplotlib inline\n",
    "import numpy as np\n",
    "num_of_samples=10\n",
    "num_of_upsamples=[]\n",
    "factor_of_sampling=[]\n",
    "for i in range(10,40):\n",
    "    num_of_upsamples.append(i)\n",
    "    factor_of_sampling.append((i)/float(num_of_samples))"
   ]
  },
  {
   "cell_type": "code",
   "execution_count": 9,
   "metadata": {
    "collapsed": true
   },
   "outputs": [],
   "source": [
    "msq=[]\n",
    "def upsample(x,s):\n",
    "    y=[]\n",
    "    upsampled_by=s/float(num_of_samples)\n",
    "    for i in  range(s):\n",
    "        floor=math.floor((i)/upsampled_by)\n",
    "        ceil=math.ceil((i)/upsampled_by)\n",
    "        try:\n",
    "            if floor != ceil:\n",
    "                value=x[floor]+(x[ceil]-x[floor])*(i/upsampled_by-floor)/(ceil-floor)\n",
    "            else:\n",
    "                value=x[floor]\n",
    "        except Exception as e:\n",
    "            value=x[floor]+(0-x[floor])*((i)/upsampled_by-floor)/(ceil-floor)\n",
    "        y.append(value)\n",
    "\n",
    "    t=[]\n",
    "    xori=[]\n",
    "    for i in range(s):\n",
    "        xori.append(math.sin(math.radians(360*i/s)))    \n",
    "    for i in range(len(y)):\n",
    "        t.append(i)\n",
    "    \n",
    "#    plt.plot(t,xori)\n",
    "#    plt.stem(t,y)\n",
    "    error=np.mean(((np.array(xori)-np.array(y)))**2)\n",
    "    msq.append(error)\n",
    "#     print('mean square error by interpolation = ',msq)\n",
    "    return y"
   ]
  },
  {
   "cell_type": "code",
   "execution_count": 7,
   "metadata": {
    "collapsed": true
   },
   "outputs": [],
   "source": [
    "x1=[]\n",
    "for sample in num_of_upsamples:    \n",
    "    for i in range(num_of_samples):\n",
    "        x1.append(math.sin(math.radians(360*(i)/num_of_samples)))\n",
    "    upsample(x1,sample)"
   ]
  },
  {
   "cell_type": "code",
   "execution_count": 8,
   "metadata": {},
   "outputs": [
    {
     "data": {
      "text/plain": [
       "[<matplotlib.lines.Line2D at 0x20cc33d3d68>]"
      ]
     },
     "execution_count": 8,
     "metadata": {},
     "output_type": "execute_result"
    },
    {
     "data": {
      "image/png": "[encoded data removed]",
      "text/plain": [
       "<matplotlib.figure.Figure at 0x20cc33989b0>"
      ]
     },
     "metadata": {},
     "output_type": "display_data"
    }
   ],
   "source": [
    "plt.plot(np.array(factor_of_sampling),np.array(msq),'-o')"
   ]
  },
  {
   "cell_type": "code",
   "execution_count": null,
   "metadata": {
    "collapsed": true
   },
   "outputs": [],
   "source": []
  }
 ],
 "metadata": {
  "kernelspec": {
   "display_name": "Python 3",
   "language": "python",
   "name": "python3"
  },
  "language_info": {
   "codemirror_mode": {
    "name": "ipython",
    "version": 3
   },
   "file_extension": ".py",
   "mimetype": "text/x-python",
   "name": "python",
   "nbconvert_exporter": "python",
   "pygments_lexer": "ipython3",
   "version": "3.6.3"
  }
 },
 "nbformat": 4,
 "nbformat_minor": 2
}
